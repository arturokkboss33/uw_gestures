{
 "cells": [
  {
   "cell_type": "markdown",
   "metadata": {},
   "source": [
    "# Match stereo image pairs to labeled images and create csv reference file"
   ]
  },
  {
   "cell_type": "code",
   "execution_count": 2,
   "metadata": {
    "collapsed": false
   },
   "outputs": [],
   "source": [
    "###import libraries\n",
    "import csv\n",
    "from pathlib2 import Path\n",
    "\n",
    "###global variables\n",
    "str_labelFile = '../files/csv/biograd_calm_labeled.csv'\n",
    "str_stereoFile = '../files/csv/biograd_calm_stereoimgs.csv'\n",
    "selected_stereo_imgs = list()\n",
    "stereo_csv_list = list()\n",
    "\n",
    "###code\n",
    "\n",
    "#go through stereo file, and create a list of the images selected for labeling\n",
    "with open(str_stereoFile,'r') as stereofile:\n",
    "    imageReader = csv.reader(stereofile, delimiter=',')\n",
    "    for row in imageReader:\n",
    "        str_img = row[3]\n",
    "        image_path = Path(str_img)\n",
    "        selected_stereo_imgs.append(image_path.name)\n",
    "        stereo_csv_list.append(row)\n",
    "\n",
    "#debug created list - comment if necessary\n",
    "#print(len(selected_stereo_imgs))\n",
    "#print(selected_stereo_imgs[0])\n",
    "#print(selected_stereo_imgs)"
   ]
  },
  {
   "cell_type": "code",
   "execution_count": 3,
   "metadata": {
    "collapsed": false
   },
   "outputs": [],
   "source": [
    "###GLOBAL VARIABLE\n",
    "str_finalFile = '../files/csv/biograd_calm_gestures.csv'\n",
    "csv_class_column = 17\n",
    "finalFile_fieldNames = ['stereo left','stereo right','selected img','label name']\n",
    "\n",
    "#open output file to write when necessary\n",
    "ofile = open(str_finalFile,'w')\n",
    "writer_finalFile = csv.DictWriter(ofile,fieldnames=finalFile_fieldNames)\n",
    "writer_finalFile.writeheader()\n",
    "\n",
    "#open label file to backtrace the stereo images where it comes from\n",
    "with open(str_labelFile, 'r') as csvfile:\n",
    "    imageReader = csv.reader(csvfile, delimiter=',')\n",
    "    flag_ignore_row = True\n",
    "    for label_info in imageReader:\n",
    "        #ignore 1st row containing column headers\n",
    "        if  flag_ignore_row:\n",
    "            flag_ignore_row = False\n",
    "        else:\n",
    "            str_img = label_info[0]\n",
    "            image_path = Path(str_img[1:-1]) #this file has quotes around strings - remove them\n",
    "            \n",
    "            #search for this string in the list of selected stereo images\n",
    "            for idx,img in enumerate(selected_stereo_imgs):\n",
    "                if image_path.name == img:\n",
    "                    #print(\"1: {}, 2: {}\".format(image_path.name,stereo_csv_list[idx]))\n",
    "                    stereo_img_info = stereo_csv_list[idx]\n",
    "                    writer_finalFile.writerow({'stereo left':stereo_img_info[0],\n",
    "                                              'stereo right':stereo_img_info[1],\n",
    "                                              'selected img':stereo_img_info[2],\n",
    "                                              'label name':label_info[csv_class_column]})                    \n",
    "                    \n",
    "                    break\n",
    "                \n",
    "\n",
    "ofile.close()\n",
    "            #debugging\n",
    "            #image_path = Path(row[0])\n",
    "            #print(image_path.name)\n",
    "            #print(type(image_path.name))"
   ]
  },
  {
   "cell_type": "code",
   "execution_count": 5,
   "metadata": {
    "collapsed": false
   },
   "outputs": [
    {
     "name": "stdout",
     "output_type": "stream",
     "text": [
      "<type 'list'>\n"
     ]
    }
   ],
   "source": [
    "print(type(stereo_csv_list[0]))"
   ]
  },
  {
   "cell_type": "code",
   "execution_count": null,
   "metadata": {
    "collapsed": true
   },
   "outputs": [],
   "source": []
  }
 ],
 "metadata": {
  "kernelspec": {
   "display_name": "Python 2",
   "language": "python",
   "name": "python2"
  },
  "language_info": {
   "codemirror_mode": {
    "name": "ipython",
    "version": 2
   },
   "file_extension": ".py",
   "mimetype": "text/x-python",
   "name": "python",
   "nbconvert_exporter": "python",
   "pygments_lexer": "ipython2",
   "version": "2.7.13"
  }
 },
 "nbformat": 4,
 "nbformat_minor": 2
}
