{
 "cells": [
  {
   "cell_type": "markdown",
   "metadata": {},
   "source": [
    "# Copy selected stereo images, rename them and extract patch"
   ]
  },
  {
   "cell_type": "code",
   "execution_count": 1,
   "metadata": {
    "collapsed": true
   },
   "outputs": [],
   "source": [
    "###import libraries\n",
    "import csv\n",
    "import shutil\n",
    "from pathlib2 import Path"
   ]
  },
  {
   "cell_type": "code",
   "execution_count": 2,
   "metadata": {
    "collapsed": true
   },
   "outputs": [],
   "source": [
    "###GLOBAL VARIABLES\n",
    "#paths to input and output csv files\n",
    "str_refFile = '../files/csv/biograd_calm_gestures.csv'\n",
    "str_outFile = '../files/csv/biograd-A.csv'\n",
    "str_imgsPath = '/home/arturokkboss33/Databases/underwater_gestures/biograd-A/stereo-imgs/'\n",
    "\n",
    "#string names to rename the files\n",
    "str_location = 'biograd-A'\n",
    "str_underscore = '_'\n",
    "str_side_left = 'left'\n",
    "str_side_right = 'right'"
   ]
  },
  {
   "cell_type": "code",
   "execution_count": 3,
   "metadata": {
    "collapsed": false
   },
   "outputs": [],
   "source": [
    "###CODE\n",
    "stereo_pairs_list = list()\n",
    "imgs_nums_dict = {}\n",
    "\n",
    "#go through stereo file, and create a list of the images and associated index\n",
    "with open(str_refFile,'r') as stereofile:\n",
    "    imageReader = csv.reader(stereofile, delimiter=',')\n",
    "    flag_skip_row = True\n",
    "    for row in imageReader:\n",
    "        if not flag_skip_row:\n",
    "            #Extract information about the stereo imgs from the csv file\n",
    "            path_left = Path(row[0])\n",
    "            str_left = path_left.stem\n",
    "            str_img_num = int(str_left.split('_')[2])\n",
    "            formated_num = '{:05d}'.format(str_img_num)\n",
    "            stereo_pairs_list.append(formated_num)     \n",
    "            \n",
    "        else:\n",
    "            flag_skip_row = False\n",
    "\n",
    "#sort the list, and create a hash table/dictionary with the correct order\n",
    "stereo_pairs_list.sort()\n",
    "for idx, element in enumerate(stereo_pairs_list):\n",
    "    imgs_nums_dict[element] = idx\n",
    "    \n",
    "#print(imgs_nums_dict)"
   ]
  },
  {
   "cell_type": "code",
   "execution_count": 4,
   "metadata": {
    "collapsed": false
   },
   "outputs": [],
   "source": [
    "###CODE\n",
    "flag_copy_images = True\n",
    "finalFile_fieldNames = ['stereo left','stereo right','selected img','label name', 'label id', 'roi params']\n",
    "\n",
    "#open output file to write when necessary\n",
    "ofile = open(str_outFile,'w')\n",
    "writer_finalFile = csv.DictWriter(ofile,fieldnames=finalFile_fieldNames)\n",
    "writer_finalFile.writeheader()\n",
    "\n",
    "#go through stereo file, and copy imgs to new location and create final csv file\n",
    "with open(str_refFile,'r') as stereofile:\n",
    "    imageReader = csv.reader(stereofile, delimiter=',')\n",
    "    flag_skip_row = True\n",
    "    for row in imageReader:\n",
    "        if not flag_skip_row:\n",
    "            #Extract information about the stereo imgs from the csv file\n",
    "            path_left = Path(row[0])\n",
    "            path_right = Path(row[1])\n",
    "            str_left = path_left.stem\n",
    "            str_right = path_right.stem\n",
    "            str_extension = path_right.suffix\n",
    "            img_num = int(str_left.split('_')[2])\n",
    "            \n",
    "            #Prepare new image names and location to copy them\n",
    "            formated_raw_num = '{:05d}'.format(img_num)\n",
    "            formated_true_num = '{:05d}'.format(imgs_nums_dict[formated_raw_num])\n",
    "            final_str_left = \"%s%s%s%s%s%s\"%(str_location,str_underscore,formated_true_num,str_underscore,\n",
    "                                             str_side_left,str_extension)\n",
    "            final_str_right = \"%s%s%s%s%s%s\"%(str_location,str_underscore,formated_true_num,str_underscore,\n",
    "                                             str_side_right,str_extension)\n",
    "            \n",
    "            #Copy images to new location with new image name\n",
    "            dst_left = \"%s%s\"%(str_imgsPath,final_str_left)\n",
    "            dst_right = \"%s%s\"%(str_imgsPath,final_str_right)\n",
    "            if flag_copy_images:\n",
    "                shutil.copy(str(path_left),dst_left)\n",
    "                shutil.copy(str(path_right),dst_right)\n",
    "                \n",
    "            #Create new csv file\n",
    "            writer_finalFile.writerow({'stereo left':dst_left,\n",
    "                                      'stereo right':dst_right,\n",
    "                                      'selected img':row[2],\n",
    "                                      'label name':row[3],\n",
    "                                      'label id':row[4],\n",
    "                                      'roi params':row[5]}) \n",
    "            \n",
    "            \n",
    "        else:\n",
    "            flag_skip_row = False\n",
    "\n",
    "ofile.close()"
   ]
  }
 ],
 "metadata": {
  "kernelspec": {
   "display_name": "Python 2",
   "language": "python",
   "name": "python2"
  },
  "language_info": {
   "codemirror_mode": {
    "name": "ipython",
    "version": 2
   },
   "file_extension": ".py",
   "mimetype": "text/x-python",
   "name": "python",
   "nbconvert_exporter": "python",
   "pygments_lexer": "ipython2",
   "version": "2.7.13"
  }
 },
 "nbformat": 4,
 "nbformat_minor": 2
}
